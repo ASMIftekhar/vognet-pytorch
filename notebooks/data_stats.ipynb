{
 "cells": [
  {
   "cell_type": "code",
   "execution_count": 1,
   "metadata": {},
   "outputs": [],
   "source": [
    "%load_ext autoreload\n",
    "%autoreload 2"
   ]
  },
  {
   "cell_type": "code",
   "execution_count": 2,
   "metadata": {},
   "outputs": [],
   "source": [
    "%matplotlib inline"
   ]
  },
  {
   "cell_type": "code",
   "execution_count": 3,
   "metadata": {},
   "outputs": [],
   "source": [
    "import altair as alt"
   ]
  },
  {
   "cell_type": "code",
   "execution_count": 4,
   "metadata": {},
   "outputs": [
    {
     "name": "stdout",
     "output_type": "stream",
     "text": [
      "/home/arka/Ark_git_files/vognet-pytorch\n"
     ]
    }
   ],
   "source": [
    "cd .."
   ]
  },
  {
   "cell_type": "code",
   "execution_count": 5,
   "metadata": {},
   "outputs": [],
   "source": [
    "import sys\n",
    "sys.path.append('./dcode')\n",
    "sys.path.append('./code')\n",
    "sys.path.append('./utils')"
   ]
  },
  {
   "cell_type": "code",
   "execution_count": 6,
   "metadata": {},
   "outputs": [],
   "source": [
    "from dataset_stats import AnetSRL_Vis"
   ]
  },
  {
   "cell_type": "code",
   "execution_count": 7,
   "metadata": {},
   "outputs": [],
   "source": [
    "from yacs.config import CfgNode as CN\n",
    "import yaml\n",
    "cfg = CN(yaml.safe_load(open('./configs/create_asrl_cfg.yml')))"
   ]
  },
  {
   "cell_type": "code",
   "execution_count": 8,
   "metadata": {},
   "outputs": [],
   "source": [
    "avis = AnetSRL_Vis(cfg)"
   ]
  },
  {
   "cell_type": "code",
   "execution_count": 9,
   "metadata": {},
   "outputs": [
    {
     "data": {
      "text/plain": [
       "Index(['gt_bboxes', 'gt_frms', 'lemma_ARG0', 'lemma_ARG1', 'lemma_ARG2',\n",
       "       'lemma_ARGM_LOC', 'lemma_verb', 'process_clss', 'process_idx2',\n",
       "       'req_aname', 'req_args', 'req_cls_pats', 'req_cls_pats_mask', 'req_pat',\n",
       "       'req_pat_ix', 'sent', 'tags', 'verb', 'vid_seg', 'words', 'ann_ind',\n",
       "       'srl_ind', 'vt_split', 'DS4_Inds', 'ds4_msk', 'RandDS4_Inds'],\n",
       "      dtype='object')"
      ]
     },
     "execution_count": 9,
     "metadata": {},
     "output_type": "execute_result"
    }
   ],
   "source": [
    "avis.trn_srl_annots.columns"
   ]
  },
  {
   "cell_type": "code",
   "execution_count": null,
   "metadata": {},
   "outputs": [],
   "source": [
    "len(avis.trn_srl_annots.vid_seg.unique())"
   ]
  },
  {
   "cell_type": "code",
   "execution_count": null,
   "metadata": {},
   "outputs": [],
   "source": [
    "len(avis.val_srl_annots[avis.val_srl_annots.vt_split == 'val'].vid_seg.unique())"
   ]
  },
  {
   "cell_type": "code",
   "execution_count": null,
   "metadata": {},
   "outputs": [],
   "source": [
    "avis.vis=True"
   ]
  },
  {
   "cell_type": "code",
   "execution_count": 21,
   "metadata": {},
   "outputs": [
    {
     "data": {
      "text/plain": [
       "8.049772762889829"
      ]
     },
     "execution_count": 21,
     "metadata": {},
     "output_type": "execute_result"
    }
   ],
   "source": [
    "avis.trn_srl_annots.req_pat_ix.apply(lambda x: sum([len(y[1]) for y in x])).mean()"
   ]
  },
  {
   "cell_type": "code",
   "execution_count": 22,
   "metadata": {},
   "outputs": [
    {
     "name": "stdout",
     "output_type": "stream",
     "text": [
      "Number of videos in Train/Valid/Test: 31718, 3891, 3914\n",
      "Number of Queries per Video is 2.0117914118166342\n",
      "Number of Queries per Video is 3.455868986052343\n",
      "Number of Queries per Video is 8.049772762889829\n",
      "Noun Phrases Count\n",
      "Arg,Count\n",
      "V,63812\n",
      "ARG0,48342\n",
      "ARG1,47335\n",
      "ARG2,16200\n",
      "ARGM-TMP,12061\n",
      "ARGM-DIR,8876\n",
      "ARGM-LOC,7408\n",
      "ARGM-MNR,5702\n",
      "ARGM-ADV,3661\n",
      "ARGM-PRP,1417\n",
      "ARG4,1238\n",
      "ARGM-PRD,905\n",
      "ARG3,854\n",
      "ARGM-GOL,447\n",
      "R-ARG0,423\n",
      "ARGM-COM,314\n",
      "R-ARG1,303\n",
      "C-ARG1,286\n",
      "ARGM-EXT,188\n",
      "ARGM-DIS,145\n",
      "\n",
      "Groundable Noun Phrase Count\n",
      "Arg,Count\n",
      "ARG0,42472\n",
      "ARG1,32455\n",
      "ARG2,9520\n",
      "ARGM-LOC,5082\n",
      "ARGM-TMP,3505\n",
      "ARGM-DIR,2936\n",
      "ARGM-MNR,2168\n",
      "ARGM-ADV,2036\n",
      "ARG4,947\n",
      "ARGM-PRP,690\n",
      "ARG3,538\n",
      "ARGM-GOL,310\n",
      "ARGM-PRD,298\n",
      "V,256\n",
      "ARGM-COM,209\n",
      "C-ARG1,186\n",
      "C-ARG0,26\n",
      "ARGM-CAU,20\n",
      "ARGM-PNC,17\n",
      "ARGM-EXT,13\n",
      "\n",
      "SRL Structures Frequency\n",
      "Arg,Count\n",
      "ARG0-V-ARG1,13654\n",
      "ARG0-V-ARG1-ARG2,3372\n",
      "ARG1-V-ARG2,3135\n",
      "ARG0-V,3080\n",
      "ARG0-V-ARGM-DIR,2269\n",
      "ARG0-V-ARG2,2075\n",
      "ARG0-V-ARG1-ARGM-LOC,1689\n",
      "ARG1-V,1631\n",
      "V-ARG1,1383\n",
      "ARG0-V-ARGM-LOC,1358\n",
      "ARG0-V-ARG1-ARGM-TMP,1290\n",
      "ARG0-V-ARG1-ARGM-MNR,862\n",
      "ARG0-V-ARG1-ARGM-DIR,838\n",
      "ARG0-ARGM-TMP-V-ARG1,754\n",
      "ARG1-V-ARG2-ARGM-ADV,743\n",
      "ARG1-V-ARGM-DIR,735\n",
      "ARGM-TMP-ARG0-V-ARG1,729\n",
      "ARG1-V-ARGM-LOC,586\n",
      "ARG0-V-ARGM-TMP,558\n",
      "ARG2-V-ARG1,526\n",
      "\n",
      "Lemmatized Counts for each lemma: {'lemma_verb': 338, 'lemma_ARG0': 93, 'lemma_ARG1': 281, 'lemma_ARG2': 114, 'lemma_ARGM_LOC': 59}\n",
      "Most Frequent Lemmas for lemma_verb\n",
      "String,Count\n",
      "stand,2395\n",
      "play,2152\n",
      "hold,1662\n",
      "talk,1626\n",
      "put,1458\n",
      "sit,1402\n",
      "speak,1190\n",
      "use,1057\n",
      "run,1053\n",
      "take,993\n",
      "walk,990\n",
      "throw,945\n",
      "go,930\n",
      "ride,906\n",
      "move,904\n",
      "walks,803\n",
      "wear,765\n",
      "get,740\n",
      "do,737\n",
      "look,714\n",
      "hit,690\n",
      "\n",
      "Most Frequent Lemmas for lemma_ARG0\n",
      "String,Count\n",
      ",21439\n",
      "man,8252\n",
      "he,7973\n",
      "woman,4095\n",
      "she,4081\n",
      "people,3360\n",
      "they,2048\n",
      "person,1785\n",
      "girl,1067\n",
      "boy,1053\n",
      "lady,789\n",
      "player,436\n",
      "dog,372\n",
      "child,360\n",
      "team,339\n",
      "kid,337\n",
      "athlete,272\n",
      "shirt,263\n",
      "guy,250\n",
      "gymnast,218\n",
      "other,196\n",
      "\n",
      "Most Frequent Lemmas for lemma_ARG1\n",
      "String,Count\n",
      ",31440\n",
      "he,2459\n",
      "man,1967\n",
      "it,1433\n",
      "woman,1163\n",
      "she,1132\n",
      "people,1097\n",
      "ball,967\n",
      "they,792\n",
      "hand,467\n",
      "hair,413\n",
      "person,380\n",
      "dog,354\n",
      "car,318\n",
      "girl,317\n",
      "screen,300\n",
      "water,298\n",
      "boy,297\n",
      "rope,269\n",
      "shoe,245\n",
      "shirt,235\n",
      "\n",
      "Most Frequent Lemmas for lemma_ARG2\n",
      "String,Count\n",
      ",54374\n",
      "he,525\n",
      "table,322\n",
      "she,259\n",
      "woman,244\n",
      "water,204\n",
      "man,203\n",
      "it,186\n",
      "people,176\n",
      "floor,151\n",
      "field,149\n",
      "room,148\n",
      "wall,144\n",
      "board,141\n",
      "car,139\n",
      "ground,128\n",
      "chair,114\n",
      "tree,101\n",
      "bar,100\n",
      "they,100\n",
      "ball,94\n",
      "\n",
      "Most Frequent Lemmas for lemma_ARGM_LOC\n",
      "String,Count\n",
      ",58825\n",
      "he,243\n",
      "water,238\n",
      "room,230\n",
      "field,200\n",
      "screen,134\n",
      "gym,128\n",
      "stage,124\n",
      "table,106\n",
      "floor,99\n",
      "court,91\n",
      "bar,87\n",
      "beach,86\n",
      "street,84\n",
      "pool,80\n",
      "she,79\n",
      "board,77\n",
      "mat,75\n",
      "woman,72\n",
      "ground,68\n",
      "track,65\n",
      "\n"
     ]
    }
   ],
   "source": [
    "vlist = avis.print_all_stats()"
   ]
  },
  {
   "cell_type": "code",
   "execution_count": null,
   "metadata": {},
   "outputs": [],
   "source": [
    "vlist"
   ]
  },
  {
   "cell_type": "code",
   "execution_count": null,
   "metadata": {},
   "outputs": [],
   "source": [
    "vlist[2]"
   ]
  },
  {
   "cell_type": "code",
   "execution_count": null,
   "metadata": {},
   "outputs": [],
   "source": [
    "out = avis.visualize_df(nnp_srl, x_name='Count:Q', y_name='Arg:O')"
   ]
  },
  {
   "cell_type": "code",
   "execution_count": null,
   "metadata": {},
   "outputs": [],
   "source": [
    "out"
   ]
  }
 ],
 "metadata": {
  "kernelspec": {
   "display_name": "Python 3",
   "language": "python",
   "name": "python3"
  },
  "language_info": {
   "codemirror_mode": {
    "name": "ipython",
    "version": 3
   },
   "file_extension": ".py",
   "mimetype": "text/x-python",
   "name": "python",
   "nbconvert_exporter": "python",
   "pygments_lexer": "ipython3",
   "version": "3.7.3"
  }
 },
 "nbformat": 4,
 "nbformat_minor": 2
}
